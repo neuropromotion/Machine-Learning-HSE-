{
 "cells": [
  {
   "cell_type": "code",
   "execution_count": 17,
   "metadata": {},
   "outputs": [],
   "source": [
    "from pathlib import Path"
   ]
  },
  {
   "cell_type": "code",
   "execution_count": 87,
   "metadata": {},
   "outputs": [],
   "source": [
    "def parser(root:str)->dict:\n",
    "    '''\n",
    "    Parser thar explore root dir to find all .txt files and read them into returning dictionary\n",
    "    1. root: path (str format) of root dir to be explored\n",
    "    2. catalogue: dictionary with all information from .txt files\n",
    "    '''\n",
    "    root_path = Path(root)\n",
    "    counter = -1\n",
    "    catalogue = {} # returning dict with HL7 data\n",
    "    \n",
    "    for txt_file_path in root_path.rglob('*.txt'): # find all .txt files with recursion\n",
    "        with txt_file_path.open('r') as file:\n",
    "            temp_dict = {}\n",
    "            counter += 1\n",
    "            \n",
    "            for line in file:\n",
    "                line = line.strip()\n",
    "                filtered_line = list(filter(None, line.split('|')))\n",
    "                head = filtered_line.pop(0) \n",
    "                \n",
    "                if head in temp_dict: # if segment already exist:\n",
    "                    if isinstance(temp_dict[head], list): # check is it list or not\n",
    "                        temp_dict[head].append(filtered_line) # if value of segment if list, just add data to end of list\n",
    "                    else:\n",
    "                        temp_dict[head] = [temp_dict[head], filtered_line] # if not, convert it into list format and add data to the end \n",
    "                else:\n",
    "                    temp_dict.setdefault(head, None) # if segment is abcent, create the key\n",
    "                    temp_dict[head] = filtered_line # and add the data\n",
    "\n",
    "                \n",
    "            catalogue.setdefault(counter, None)\n",
    "            catalogue[counter] = temp_dict\n",
    "            temp_dict = {}\n",
    "    return catalogue"
   ]
  },
  {
   "cell_type": "code",
   "execution_count": 88,
   "metadata": {},
   "outputs": [],
   "source": [
    "root_dir = r'C:\\Users\\neuropromotion\\Desktop\\ML in healthcare\\Clinical_HL7_Samples'\n",
    "data = parser(root_dir)"
   ]
  },
  {
   "cell_type": "code",
   "execution_count": 94,
   "metadata": {},
   "outputs": [
    {
     "data": {
      "text/plain": [
       "{'MSH': ['^~\\\\&',\n",
       "  'WstrnRgnlMedCntr^1231231235^NPI',\n",
       "  '201207171700',\n",
       "  'ADT^A04^ADT_A01',\n",
       "  'NIST-SS-002.11',\n",
       "  'P',\n",
       "  '2.5.1',\n",
       "  'PH_SS-NoAck^SS Sender^2.16.840.1.114222.4.10.3^ISO'],\n",
       " 'EVN': ['201207171700', 'WstrnRgnlMedCntr^1231231235^NPI'],\n",
       " 'PID': ['1', '222^^^^MR', '^^^^^^~^^^^^^U', 'F', '2106-3^^CDCREC'],\n",
       " 'PV1': ['1', '20120709_0064^^^^VN', '201207171700'],\n",
       " 'OBX': ['1',\n",
       "  'CWE',\n",
       "  'SS003^^PHINQUESTION',\n",
       "  '261QE0002X^Emergency Care^NUCC',\n",
       "  'F',\n",
       "  ['2', 'NM', '21612-7^^LN', 'UNK^^NULLFL', 'F'],\n",
       "  ['3',\n",
       "   'CWE',\n",
       "   '8661-1^^LN',\n",
       "   'E8126^Other motor vehicle traffic accident involving collision with motor vehicle injuring pedal cyclist^I9CDX',\n",
       "   'F']]}"
      ]
     },
     "execution_count": 94,
     "metadata": {},
     "output_type": "execute_result"
    }
   ],
   "source": [
    "data[55]"
   ]
  },
  {
   "cell_type": "code",
   "execution_count": 79,
   "metadata": {},
   "outputs": [
    {
     "data": {
      "text/plain": [
       "5"
      ]
     },
     "execution_count": 79,
     "metadata": {},
     "output_type": "execute_result"
    }
   ],
   "source": [
    "data[0]['PID'] "
   ]
  },
  {
   "cell_type": "code",
   "execution_count": 97,
   "metadata": {},
   "outputs": [],
   "source": [
    "# find youngest male patient\n",
    "\n",
    "list_of_males_bd = []\n",
    "for ctr in list(data.keys()):\n",
    "    if 'M' in data[ctr]['PID']:\n",
    "        ind = data[ctr]['PID'].index('M') - 1 # index of birthday data (tipically strictly before SEX)\n",
    "        bd = data[ctr]['PID'][ind]\n",
    "        if bd.isdigit(): # not all records have birthday data\n",
    "            list_of_males_bd.append(bd)"
   ]
  },
  {
   "cell_type": "code",
   "execution_count": 98,
   "metadata": {},
   "outputs": [],
   "source": [
    "from datetime import datetime\n",
    "\n",
    "def convert_data(data:str):\n",
    "    return datetime.strptime(data, \"%Y%m%d\").date()\n",
    "\n",
    "males_bd = [convert_data(x) for x in list_of_males_bd]"
   ]
  },
  {
   "cell_type": "code",
   "execution_count": 101,
   "metadata": {},
   "outputs": [
    {
     "data": {
      "text/plain": [
       "datetime.date(2010, 9, 7)"
      ]
     },
     "execution_count": 101,
     "metadata": {},
     "output_type": "execute_result"
    }
   ],
   "source": [
    "# youngest patient\n",
    "max(males_bd)"
   ]
  }
 ],
 "metadata": {
  "kernelspec": {
   "display_name": "Python 3",
   "language": "python",
   "name": "python3"
  },
  "language_info": {
   "codemirror_mode": {
    "name": "ipython",
    "version": 3
   },
   "file_extension": ".py",
   "mimetype": "text/x-python",
   "name": "python",
   "nbconvert_exporter": "python",
   "pygments_lexer": "ipython3",
   "version": "3.12.0"
  }
 },
 "nbformat": 4,
 "nbformat_minor": 2
}
